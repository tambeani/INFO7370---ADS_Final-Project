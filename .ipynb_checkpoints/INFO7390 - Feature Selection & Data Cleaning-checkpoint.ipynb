{
 "cells": [
  {
   "cell_type": "markdown",
   "id": "a9f50e18",
   "metadata": {},
   "source": [
    "# INFO7390 - Advance Data Science and Architecture\n",
    "\n",
    "## Project Title: Job Recommendation System\n",
    "### Teammates:\n",
    "1. Aniruddha Tambe\n",
    "2. Shubhankar Salvi\n",
    "3. Sangram Vuppula"
   ]
  },
  {
   "cell_type": "markdown",
   "id": "e5b0e00b",
   "metadata": {},
   "source": [
    "## Importing packages:"
   ]
  },
  {
   "cell_type": "code",
   "execution_count": 1,
   "id": "70acf6df",
   "metadata": {},
   "outputs": [],
   "source": [
    "import pandas as pd\n",
    "import matplotlib.pyplot as plt\n",
    "import numpy as np\n",
    "import missingno as msno\n",
    "from icecream import ic\n",
    "import time\n",
    "import os\n",
    "import re\n",
    "import plotly.express as px\n",
    "import plotly.graph_objects as go\n",
    "import plotly.io as pio\n",
    "import plotly.figure_factory as ff\n",
    "from kaleido.scopes.plotly import PlotlyScope\n",
    "from sklearn.impute import SimpleImputer\n",
    "from sklearn.preprocessing import StandardScaler\n",
    "from sklearn.preprocessing import LabelEncoder \n",
    "from sklearn.preprocessing import OneHotEncoder\n",
    "from sklearn.feature_selection import SelectKBest\n",
    "import warnings\n",
    "warnings.filterwarnings(action='ignore')\n",
    "pd.options.display.max_columns = 100\n",
    "\n",
    "# plotly settings and functions\n",
    "scope = PlotlyScope(plotlyjs=\"https://cdn.plot.ly/plotly-latest.min.js\")\n",
    "pio.templates.default = 'plotly_white'"
   ]
  },
  {
   "cell_type": "markdown",
   "id": "cc9c82ec",
   "metadata": {},
   "source": [
    "## Dataset:\n",
    "\n",
    "1. Stack Overflow 2018 Developer Survey - Individual responses on the 2018 Developer Survey fielded by Stack Overflow\n",
    "\n",
    "https://www.kaggle.com/stackoverflow/stack-overflow-2018-developer-survey#survey_results_public.csv\n",
    "\n",
    "2. U.S. Technology Jobs on Dice.com - 22,000 US-based Technology Job Listings\n",
    "\n",
    "https://www.kaggle.com/PromptCloudHQ/us-technology-jobs-on-dicecom"
   ]
  },
  {
   "cell_type": "code",
   "execution_count": 2,
   "id": "4a1346d5",
   "metadata": {},
   "outputs": [],
   "source": [
    "survey = pd.read_csv(\"./dataset/survey_results_public.csv\")"
   ]
  },
  {
   "cell_type": "markdown",
   "id": "b8407f8b",
   "metadata": {},
   "source": [
    "## Preliminary data summary"
   ]
  },
  {
   "cell_type": "code",
   "execution_count": 3,
   "id": "e1d71462",
   "metadata": {},
   "outputs": [
    {
     "name": "stdout",
     "output_type": "stream",
     "text": [
      "Number of columns:  129\n"
     ]
    }
   ],
   "source": [
    "# List all column names\n",
    "all_col_names = survey.columns.values.tolist()\n",
    "print('Number of columns: ',len(all_col_names))\n",
    "#print(all_col_names)"
   ]
  },
  {
   "cell_type": "code",
   "execution_count": 4,
   "id": "4c1ec6c9",
   "metadata": {},
   "outputs": [
    {
     "name": "stdout",
     "output_type": "stream",
     "text": [
      "Number of categorical columns:  87\n",
      "Number of float columns:  41\n",
      "Number of int columns:  1\n"
     ]
    }
   ],
   "source": [
    "# Get categorical columns\n",
    "cat_cols = [col for col in survey.columns if survey[col].dtype.name==\"object\"]\n",
    "float_cols = [col for col in survey.columns if survey[col].dtype.name==\"float64\"]\n",
    "int_cols = [col for col in survey.columns if survey[col].dtype.name==\"int64\"]\n",
    "print('Number of categorical columns: ',len(cat_cols))\n",
    "print('Number of float columns: ',len(float_cols))\n",
    "print('Number of int columns: ',len(int_cols))"
   ]
  },
  {
   "cell_type": "markdown",
   "id": "2f22ad45",
   "metadata": {},
   "source": [
    "## Findings\n",
    "\n",
    "1. Number of categorical columns:  87\n",
    "2. Number of float columns:  41\n",
    "3. Number of int columns:  1\n",
    "4. Datatypes found: float64(41), int64(1), object(87)\n",
    "5. Rows x Columns: 98855 x 129"
   ]
  },
  {
   "cell_type": "markdown",
   "id": "d7994d64",
   "metadata": {},
   "source": [
    "## Dropping irrelevant columns"
   ]
  },
  {
   "cell_type": "code",
   "execution_count": 5,
   "id": "e282f95f",
   "metadata": {},
   "outputs": [
    {
     "name": "stdout",
     "output_type": "stream",
     "text": [
      "Number of columns dropped:  102\n"
     ]
    }
   ],
   "source": [
    "attrToDrop=[\"SurveyTooLong\",\"SurveyEasy\",\"AdBlocker\",\"AdBlockerDisable\",\"AdBlockerReasons\",\"AdsAgreeDisagree1\",\"AdsAgreeDisagree2\",\"AdsAgreeDisagree3\",\"AdsActions\",\"AdsPriorities1\",\"AdsPriorities2\",\"AdsPriorities3\",\"AdsPriorities4\",\"AdsPriorities5\",\"AdsPriorities6\",\"AdsPriorities7\",\"AIDangerous\",\"AIInteresting\",\"AIResponsible\",\"AIFuture\",\"EthicsChoice\",\"EthicsReport\",\"EthicsResponsible\",\"EthicsImplications\",\"EthicsChoice\",\"StackOverflowRecommend\",\"StackOverflowVisit\",\"SurveyTooLong\",\"SurveyEasy\",\"AdBlocker\",\"AdBlockerDisable\",\"AdBlockerReasons\",\"AdsAgreeDisagree1\",\"AdsAgreeDisagree2\",\"AdsAgreeDisagree3\",\"AdsActions\",\"AdsPriorities1\",\"AdsPriorities2\",\"AdsPriorities3\",\"AdsPriorities4\",\"AdsPriorities5\",\"AdsPriorities6\",\"AdsPriorities7\",\"AIDangerous\",\"AIInteresting\",\"AIResponsible\",\"AIFuture\",\"EthicsChoice\",\"EthicsReport\",\"EthicsResponsible\",\"EthicsImplications\",\"EthicsChoice\",\"StackOverflowRecommend\",\"StackOverflowVisit\",\"StackOverflowHasAccount\",\"StackOverflowParticipate\",\"StackOverflowJobs\",\"StackOverflowDevStory\",\"StackOverflowJobsRecommend\",\"StackOverflowConsiderMember\",\"HypotheticalTools1\",\"HypotheticalTools2\",\"HypotheticalTools3\",\"HypotheticalTools4\",\"HypotheticalTools5\",\"JobContactPriorities1\",\"JobContactPriorities2\",\"JobContactPriorities3\",\"JobContactPriorities4\",\"JobContactPriorities5\",\"TimeAfterBootcamp\",\"StackOverflowHasAccount\",\"StackOverflowParticipate\",\"StackOverflowJobs\",\"StackOverflowDevStory\",\"StackOverflowJobsRecommend\",\"StackOverflowConsiderMember\",\"HypotheticalTools1\",\"HypotheticalTools2\",\"HypotheticalTools3\",\"HypotheticalTools4\",\"HypotheticalTools5\",\"JobContactPriorities1\",\"JobContactPriorities2\",\"JobContactPriorities3\",\"JobContactPriorities4\",\"JobContactPriorities5\",\"TimeAfterBootcamp\",\"HackathonReasons\",\"ErgonomicDevices\",\"Hobby\",\"NumberMonitors\",\"Salary\",\"CheckInCode\",\"WakeTime\",\"TimeFullyProductive\",\"SkipMeals\",\"HoursOutside\",\"Exercise\",\"EthicalImplications\",\"EducationParents\"]\n",
    "survey=survey[survey.columns.difference(attrToDrop)]\n",
    "print(\"Number of columns dropped: \",len(attrToDrop))"
   ]
  },
  {
   "cell_type": "code",
   "execution_count": 6,
   "id": "5e4beae2",
   "metadata": {},
   "outputs": [
    {
     "name": "stdout",
     "output_type": "stream",
     "text": [
      "Number of categorical columns:  43\n",
      "Number of float columns:  29\n",
      "Number of int columns:  1\n",
      "Total number of columns:  73\n"
     ]
    }
   ],
   "source": [
    "# Get categorical columns\n",
    "cat_cols = [col for col in survey.columns if survey[col].dtype.name==\"object\"]\n",
    "float_cols = [col for col in survey.columns if survey[col].dtype.name==\"float64\"]\n",
    "int_cols = [col for col in survey.columns if survey[col].dtype.name==\"int64\"]\n",
    "print('Number of categorical columns: ',len(cat_cols))\n",
    "print('Number of float columns: ',len(float_cols))\n",
    "print('Number of int columns: ',len(int_cols))\n",
    "print('Total number of columns: ',len(survey.columns))"
   ]
  },
  {
   "cell_type": "markdown",
   "id": "842c0ef4",
   "metadata": {},
   "source": [
    "## Replace NA values with \"\""
   ]
  },
  {
   "cell_type": "code",
   "execution_count": 7,
   "id": "6846deb1",
   "metadata": {},
   "outputs": [],
   "source": [
    "survey = survey.replace(np.nan, '', regex=True)"
   ]
  },
  {
   "cell_type": "markdown",
   "id": "28849cb7",
   "metadata": {},
   "source": [
    "## Encode categorical features"
   ]
  },
  {
   "cell_type": "code",
   "execution_count": 8,
   "id": "091ff892",
   "metadata": {},
   "outputs": [],
   "source": [
    "# Creating dictionaries\n",
    "\n",
    "Frameworknextyear=list()\n",
    "for value in survey[\"FrameworkDesireNextYear\"]:\n",
    "        new=str(value).split(';')\n",
    "        for i in new:\n",
    "            Frameworknextyear.append(i)\n",
    "sFNY=set(Frameworknextyear)\n",
    "\n",
    "FrameworkWorkedWith=list()\n",
    "for value in survey[\"FrameworkWorkedWith\"]:\n",
    "        new=str(value).split(';')\n",
    "        for i in new:\n",
    "            FrameworkWorkedWith.append(i)\n",
    "sFW=set(FrameworkWorkedWith)\n",
    "\n",
    "PlatformDesireNextYear=list()\n",
    "for value in survey[\"PlatformDesireNextYear\"]:\n",
    "        new=str(value).split(';')\n",
    "        for i in new:\n",
    "            PlatformDesireNextYear.append(i)\n",
    "sPDNY=set(PlatformDesireNextYear)\n",
    "\n",
    "PlatformWorkedWith=list()\n",
    "for value in survey[\"PlatformWorkedWith\"]:\n",
    "        new=str(value).split(';')\n",
    "        for i in new:\n",
    "            PlatformWorkedWith.append(i)\n",
    "sPWW=set(PlatformWorkedWith)\n",
    "\n",
    "LanguageDesireNextYear=list()\n",
    "for value in survey[\"LanguageDesireNextYear\"]:\n",
    "        new=str(value).split(';')\n",
    "        for i in new:\n",
    "            LanguageDesireNextYear.append(i)\n",
    "sLDNY=set(LanguageDesireNextYear)\n",
    "\n",
    "LanguageWorkedWith=list()\n",
    "for value in survey[\"LanguageWorkedWith\"]:\n",
    "        new=str(value).split(';')\n",
    "        for i in new:\n",
    "            LanguageWorkedWith.append(i)\n",
    "sLWW=set(LanguageWorkedWith)\n",
    "         \n",
    "CommunicationTools=list()\n",
    "for value in survey[\"CommunicationTools\"]:\n",
    "        new=str(value).split(';')\n",
    "        for i in new:\n",
    "            CommunicationTools.append(i)\n",
    "sCT=set(CommunicationTools)\n",
    "\n",
    "DatabaseWorkedWith=list()\n",
    "for value in survey[\"DatabaseWorkedWith\"]:\n",
    "        new=str(value).split(';')\n",
    "        for i in new:\n",
    "            DatabaseWorkedWith.append(i)\n",
    "sDWW=set(DatabaseWorkedWith)\n",
    "\n",
    "DatabaseDesireNextYear=list()\n",
    "for value in survey[\"DatabaseDesireNextYear\"]:\n",
    "        new=str(value).split(';')\n",
    "        for i in new:\n",
    "            DatabaseDesireNextYear.append(i)\n",
    "sDNY=set(DatabaseDesireNextYear)\n",
    "\n",
    "DevType=list()\n",
    "for value in survey[\"DevType\"]:\n",
    "        new=str(value).split(';')\n",
    "        for i in new:\n",
    "            DevType.append(i)\n",
    "sDT=set(DevType)\n",
    "\n",
    "# Combining all frameworks\n",
    "combined=sFNY.union(sFW,sFNY,sPDNY,sPWW,sLDNY,sLWW,sCT,sDWW,sDNY,sDT)\n",
    "all_framework=list(combined)\n",
    "all_fw=pd.DataFrame(all_framework)"
   ]
  },
  {
   "cell_type": "code",
   "execution_count": 9,
   "id": "fc8700b8",
   "metadata": {},
   "outputs": [],
   "source": [
    "# Userwise framework information\n",
    "FrameworkWorkedWith = pd.DataFrame(survey['Respondent'])\n",
    "for i in sFW:\n",
    "    #print(i)\n",
    "    FrameworkWorkedWith[i]=\"\"\n",
    "\n",
    "PlatformWorkedWith = pd.DataFrame(survey['Respondent'])\n",
    "for i in sPWW:\n",
    "    #print(i)\n",
    "    PlatformWorkedWith[i]=\"\"\n",
    "\n",
    "LanguageWorkedWith = pd.DataFrame(survey['Respondent'])\n",
    "for i in sLWW:\n",
    "    LanguageWorkedWith[i]=\"\"\n",
    "\n",
    "DatabaseWorkedWith = pd.DataFrame(survey['Respondent'])\n",
    "for i in sDWW:\n",
    "    DatabaseWorkedWith[i]=\"\"\n",
    "\n",
    "DevType = pd.DataFrame(survey['Respondent'])\n",
    "for i in sDT:\n",
    "    DevType[i]=\"\"\n",
    "\n",
    "CommunicationTools = pd.DataFrame(survey['Respondent'])\n",
    "for i in sCT:\n",
    "    CommunicationTools[i]=\"\""
   ]
  },
  {
   "cell_type": "code",
   "execution_count": 10,
   "id": "28f71261",
   "metadata": {},
   "outputs": [],
   "source": [
    "# Forming dictionary\n",
    "\n",
    "coldic=dict(zip(FrameworkWorkedWith.columns,range(0,len(sFW)+1)))\n",
    "for i in range(98855):\n",
    "    #try:\n",
    "    data=(survey.loc[i,'FrameworkWorkedWith']).split(';')\n",
    "    #except:\n",
    "        #print(\"Error: \",i,\" - \",survey.loc[i,'FrameworkWorkedWith'])\n",
    "    if(data[0]!=\"\"):\n",
    "       # print(data)\n",
    "        for value in data:\n",
    "            FrameworkWorkedWith.iloc[i,coldic[value]]=1\n",
    "\n",
    "#PlatformWorkedWith\n",
    "coldic1=dict(zip(PlatformWorkedWith.columns,range(0,len(sPWW)+1)))\n",
    "for i in range(98855):\n",
    "    data=(survey.loc[i,'PlatformWorkedWith']).split(';')\n",
    "    if(data[0]!=\"\"):\n",
    "       # print(data)\n",
    "        for value in data:\n",
    "            PlatformWorkedWith.iloc[i,coldic1[value]]=1\n",
    "\n",
    "#LanguageWorkedWith\n",
    "coldic2=dict(zip(LanguageWorkedWith.columns,range(0,len(sLWW)+1)))\n",
    "for i in range(98855):\n",
    "    data=(survey.loc[i,'LanguageWorkedWith']).split(';')\n",
    "    if(data[0]!=\"\"):\n",
    "       # print(data)\n",
    "        for value in data:\n",
    "            LanguageWorkedWith.iloc[i,coldic2[value]]=1\n",
    "\n",
    "#DatabasesWorkedWth\n",
    "coldic3=dict(zip(DatabaseWorkedWith.columns,range(0,len(sDWW)+1)))\n",
    "for i in range(98855):\n",
    "    data=(survey.loc[i,'DatabaseWorkedWith']).split(';')\n",
    "    if(data[0]!=\"\"):\n",
    "       # print(data)\n",
    "        for value in data:\n",
    "            DatabaseWorkedWith.iloc[i,coldic3[value]]=1\n",
    "\n",
    "#DevType\n",
    "coldic4=dict(zip(DevType.columns,range(0,len(sDT)+1)))\n",
    "for i in range(98855):\n",
    "    data=(survey.loc[i,'DevType']).split(';')\n",
    "    if(data[0]!=\"\"):\n",
    "       # print(data)\n",
    "        for value in data:\n",
    "            DevType.iloc[i,coldic4[value]]=1\n",
    "\n",
    "#CommmunicationTools\n",
    "coldic5=dict(zip(CommunicationTools.columns,range(0,len(sCT)+1)))\n",
    "for i in range(98855):\n",
    "    data=(survey.loc[i,'CommunicationTools']).split(';')\n",
    "    if(data[0]!=\"\"):\n",
    "        for value in data:\n",
    "            CommunicationTools.iloc[i,coldic5[value]]=1"
   ]
  },
  {
   "cell_type": "markdown",
   "id": "5883515e",
   "metadata": {
    "tags": [
     "remove_cell"
    ]
   },
   "source": [
    "## Export survey to csv"
   ]
  },
  {
   "cell_type": "code",
   "execution_count": 12,
   "id": "2df97ccc",
   "metadata": {},
   "outputs": [],
   "source": [
    "survey.to_csv('./dataset/survey_dropped_columns.csv',index=False)\n",
    "LanguageWorkedWith.to_csv(\"./dataset/LanguageWorkedWith.csv\",index=False)\n",
    "DatabaseWorkedWith.to_csv(\"./dataset/DatabaseWorkedWith.csv\",index=False)\n",
    "CommunicationTools.to_csv(\"./dataset/CommunicationTools.csv\",index=False)\n",
    "DevType.to_csv(\"./dataset/DevType.csv\",index=False)\n",
    "FrameworkWorkedWith.to_csv(\"./dataset/FrameworkWorkedWith.csv\",index=False)\n",
    "PlatformWorkedWith.to_csv(\"./dataset/PlatformWorkedWith.csv\",index=False)"
   ]
  },
  {
   "cell_type": "markdown",
   "id": "f55ec7cb",
   "metadata": {},
   "source": [
    "## Encoding categorical features"
   ]
  },
  {
   "cell_type": "code",
   "execution_count": null,
   "id": "ee4deee4",
   "metadata": {},
   "outputs": [],
   "source": [
    "encode = LabelEncoder()"
   ]
  },
  {
   "cell_type": "code",
   "execution_count": null,
   "id": "8ceb07b1",
   "metadata": {},
   "outputs": [],
   "source": [
    "cat_cols = [col for col in survey.columns if survey[col].dtype.name==\"object\"]\n",
    "# Converting the variables\n",
    "for col in cat_cols:\n",
    "    print('Converted: ', col)\n",
    "    survey[col]=encode.fit_transform(survey[col])"
   ]
  },
  {
   "cell_type": "markdown",
   "id": "3b07fd84",
   "metadata": {},
   "source": [
    "## Imputing values"
   ]
  },
  {
   "cell_type": "code",
   "execution_count": null,
   "id": "2fd1ca0d",
   "metadata": {},
   "outputs": [],
   "source": [
    "# Imputing assessment columns with mode value\n",
    "for col in survey.columns: \n",
    "    if col.__contains__('Assess'):\n",
    "        #print('Found: ',col)\n",
    "        survey[col] = survey[col].fillna(survey[col].mode()[0])"
   ]
  }
 ],
 "metadata": {
  "kernelspec": {
   "display_name": "Python 3 (ipykernel)",
   "language": "python",
   "name": "python3"
  },
  "language_info": {
   "codemirror_mode": {
    "name": "ipython",
    "version": 3
   },
   "file_extension": ".py",
   "mimetype": "text/x-python",
   "name": "python",
   "nbconvert_exporter": "python",
   "pygments_lexer": "ipython3",
   "version": "3.9.12"
  }
 },
 "nbformat": 4,
 "nbformat_minor": 5
}
