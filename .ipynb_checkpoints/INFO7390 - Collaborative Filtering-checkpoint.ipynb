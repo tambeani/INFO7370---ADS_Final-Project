{
 "cells": [
  {
   "cell_type": "markdown",
   "id": "9862d848",
   "metadata": {},
   "source": [
    "## Import packages"
   ]
  },
  {
   "cell_type": "code",
   "execution_count": 2,
   "id": "c49526a3",
   "metadata": {},
   "outputs": [],
   "source": [
    "import pandas as pd\n",
    "import matplotlib.pyplot as plt\n",
    "import numpy as np\n",
    "import sys\n",
    "import time\n",
    "import random"
   ]
  },
  {
   "cell_type": "markdown",
   "id": "cd1d5cc9",
   "metadata": {},
   "source": [
    "## Loading dataset"
   ]
  },
  {
   "cell_type": "code",
   "execution_count": 3,
   "id": "2267b5d6",
   "metadata": {},
   "outputs": [
    {
     "name": "stderr",
     "output_type": "stream",
     "text": [
      "C:\\Users\\18573\\AppData\\Local\\Temp\\ipykernel_13636\\2000241751.py:2: DtypeWarning: Columns (8,12,13,14,15,16,50,51,52,53,55,56,57,58,59,60,61,62,63,64,65,66,67,68,69,70,71,72,73,74,75,76,77,78,79,80,81,82,83,84,85,93,94,95,96,97,98,99,100,101,102,103,104,105,106,107,108,109,110,111,112,113,114,115,116,117,118,119,120,121,122,123,124,125,126,127,128) have mixed types. Specify dtype option on import or set low_memory=False.\n",
      "  survey = pd.read_csv(\"./dataset/survey_results_public.csv\")\n"
     ]
    }
   ],
   "source": [
    "samples = pd.read_csv(\"./dataset/dice_com-job_us_sample.csv\")\n",
    "survey = pd.read_csv(\"./dataset/survey_results_public.csv\")"
   ]
  },
  {
   "cell_type": "markdown",
   "id": "5da1b62b",
   "metadata": {},
   "source": [
    "## Get unique companies"
   ]
  },
  {
   "cell_type": "code",
   "execution_count": 9,
   "id": "bccf06b8",
   "metadata": {},
   "outputs": [],
   "source": [
    "companies = samples['company'].unique()"
   ]
  },
  {
   "cell_type": "markdown",
   "id": "b0216d62",
   "metadata": {},
   "source": [
    "## Assign random companies to each respondent"
   ]
  },
  {
   "cell_type": "code",
   "execution_count": null,
   "id": "216cc3c4",
   "metadata": {},
   "outputs": [],
   "source": []
  }
 ],
 "metadata": {
  "kernelspec": {
   "display_name": "Python 3 (ipykernel)",
   "language": "python",
   "name": "python3"
  },
  "language_info": {
   "codemirror_mode": {
    "name": "ipython",
    "version": 3
   },
   "file_extension": ".py",
   "mimetype": "text/x-python",
   "name": "python",
   "nbconvert_exporter": "python",
   "pygments_lexer": "ipython3",
   "version": "3.9.12"
  }
 },
 "nbformat": 4,
 "nbformat_minor": 5
}
