{
 "cells": [
  {
   "cell_type": "markdown",
   "id": "a9f50e18",
   "metadata": {},
   "source": [
    "# INFO7390 - Advance Data Science and Architecture\n",
    "\n",
    "## Project Title: Job Recommendation System\n",
    "### Teammates:\n",
    "1. Aniruddha Tambe\n",
    "2. Shubhankar Salvi\n",
    "3. Sangram Vuppula"
   ]
  },
  {
   "cell_type": "markdown",
   "id": "e5b0e00b",
   "metadata": {},
   "source": [
    "## Importing packages:"
   ]
  },
  {
   "cell_type": "code",
   "execution_count": 5,
   "id": "70acf6df",
   "metadata": {},
   "outputs": [],
   "source": [
    "import pandas as pd\n",
    "import matplotlib.pyplot as plt\n",
    "import numpy as np\n",
    "import missingno as msno\n",
    "#from icecream import ic\n",
    "import time\n",
    "import os\n",
    "import re\n",
    "import plotly.express as px\n",
    "import plotly.graph_objects as go\n",
    "import plotly.io as pio\n",
    "import plotly.figure_factory as ff\n",
    "#from kaleido.scopes.plotly import PlotlyScope\n",
    "from sklearn.impute import SimpleImputer\n",
    "from sklearn.preprocessing import StandardScaler\n",
    "from sklearn.preprocessing import LabelEncoder \n",
    "from sklearn.preprocessing import OneHotEncoder\n",
    "from sklearn.feature_selection import SelectKBest\n",
    "import warnings\n",
    "warnings.filterwarnings(action='ignore')\n",
    "pd.options.display.max_columns = 100\n",
    "\n",
    "# plotly settings and functions\n",
    "#scope = PlotlyScope(plotlyjs=\"https://cdn.plot.ly/plotly-latest.min.js\")\n",
    "pio.templates.default = 'plotly_white'"
   ]
  },
  {
   "cell_type": "markdown",
   "id": "cc9c82ec",
   "metadata": {},
   "source": [
    "## Dataset:\n",
    "\n",
    "1. Stack Overflow 2018 Developer Survey - Individual responses on the 2018 Developer Survey fielded by Stack Overflow\n",
    "\n",
    "https://www.kaggle.com/stackoverflow/stack-overflow-2018-developer-survey#survey_results_public.csv\n",
    "\n",
    "2. U.S. Technology Jobs on Dice.com - 22,000 US-based Technology Job Listings\n",
    "\n",
    "https://www.kaggle.com/PromptCloudHQ/us-technology-jobs-on-dicecom"
   ]
  },
  {
   "cell_type": "code",
   "execution_count": 6,
   "id": "4a1346d5",
   "metadata": {},
   "outputs": [],
   "source": [
    "survey = pd.read_csv(\"./dataset/survey_results_public.csv\")"
   ]
  },
  {
   "cell_type": "markdown",
   "id": "b8407f8b",
   "metadata": {},
   "source": [
    "## Preliminary data summary"
   ]
  },
  {
   "cell_type": "code",
   "execution_count": 7,
   "id": "e1d71462",
   "metadata": {},
   "outputs": [
    {
     "name": "stdout",
     "output_type": "stream",
     "text": [
      "Number of columns:  129\n"
     ]
    }
   ],
   "source": [
    "# List all column names\n",
    "all_col_names = survey.columns.values.tolist()\n",
    "print('Number of columns: ',len(all_col_names))\n",
    "#print(all_col_names)"
   ]
  },
  {
   "cell_type": "code",
   "execution_count": 8,
   "id": "4c1ec6c9",
   "metadata": {},
   "outputs": [
    {
     "name": "stdout",
     "output_type": "stream",
     "text": [
      "Number of categorical columns:  87\n",
      "Number of float columns:  41\n",
      "Number of int columns:  1\n"
     ]
    }
   ],
   "source": [
    "# Get categorical columns\n",
    "cat_cols = [col for col in survey.columns if survey[col].dtype.name==\"object\"]\n",
    "float_cols = [col for col in survey.columns if survey[col].dtype.name==\"float64\"]\n",
    "int_cols = [col for col in survey.columns if survey[col].dtype.name==\"int64\"]\n",
    "print('Number of categorical columns: ',len(cat_cols))\n",
    "print('Number of float columns: ',len(float_cols))\n",
    "print('Number of int columns: ',len(int_cols))"
   ]
  },
  {
   "cell_type": "markdown",
   "id": "2f22ad45",
   "metadata": {},
   "source": [
    "## Findings\n",
    "\n",
    "1. Number of categorical columns:  87\n",
    "2. Number of float columns:  41\n",
    "3. Number of int columns:  1\n",
    "4. Datatypes found: float64(41), int64(1), object(87)\n",
    "5. Rows x Columns: 98855 x 129"
   ]
  },
  {
   "cell_type": "markdown",
   "id": "d7994d64",
   "metadata": {},
   "source": [
    "## Dropping irrelevant columns"
   ]
  },
  {
   "cell_type": "code",
   "execution_count": 9,
   "id": "e282f95f",
   "metadata": {},
   "outputs": [
    {
     "name": "stdout",
     "output_type": "stream",
     "text": [
      "Number of columns dropped:  101\n"
     ]
    }
   ],
   "source": [
    "attrToDrop=[\"SurveyTooLong\",\"SurveyEasy\",\"AdBlocker\",\"AdBlockerDisable\",\"AdBlockerReasons\",\"AdsAgreeDisagree1\",\"AdsAgreeDisagree2\",\"AdsAgreeDisagree3\",\"AdsActions\",\"AdsPriorities1\",\"AdsPriorities2\",\"AdsPriorities3\",\"AdsPriorities4\",\"AdsPriorities5\",\"AdsPriorities6\",\"AdsPriorities7\",\"AIDangerous\",\"AIInteresting\",\"AIResponsible\",\"AIFuture\",\"EthicsChoice\",\"EthicsReport\",\"EthicsResponsible\",\"EthicsImplications\",\"EthicsChoice\",\"StackOverflowRecommend\",\"StackOverflowVisit\",\"SurveyTooLong\",\"SurveyEasy\",\"AdBlocker\",\"AdBlockerDisable\",\"AdBlockerReasons\",\"AdsAgreeDisagree1\",\"AdsAgreeDisagree2\",\"AdsAgreeDisagree3\",\"AdsActions\",\"AdsPriorities1\",\"AdsPriorities2\",\"AdsPriorities3\",\"AdsPriorities4\",\"AdsPriorities5\",\"AdsPriorities6\",\"AdsPriorities7\",\"AIDangerous\",\"AIInteresting\",\"AIResponsible\",\"AIFuture\",\"EthicsChoice\",\"EthicsReport\",\"EthicsResponsible\",\"EthicsImplications\",\"EthicsChoice\",\"StackOverflowRecommend\",\"StackOverflowVisit\",\"StackOverflowHasAccount\",\"StackOverflowParticipate\",\"StackOverflowJobs\",\"StackOverflowDevStory\",\"StackOverflowJobsRecommend\",\"StackOverflowConsiderMember\",\"HypotheticalTools1\",\"HypotheticalTools2\",\"HypotheticalTools3\",\"HypotheticalTools4\",\"HypotheticalTools5\",\"JobContactPriorities1\",\"JobContactPriorities2\",\"JobContactPriorities3\",\"JobContactPriorities4\",\"JobContactPriorities5\",\"TimeAfterBootcamp\",\"StackOverflowHasAccount\",\"StackOverflowParticipate\",\"StackOverflowJobs\",\"StackOverflowDevStory\",\"StackOverflowJobsRecommend\",\"StackOverflowConsiderMember\",\"HypotheticalTools1\",\"HypotheticalTools2\",\"HypotheticalTools3\",\"HypotheticalTools4\",\"HypotheticalTools5\",\"JobContactPriorities1\",\"JobContactPriorities2\",\"JobContactPriorities3\",\"JobContactPriorities4\",\"JobContactPriorities5\",\"TimeAfterBootcamp\",\"HackathonReasons\",\"ErgonomicDevices\",\"Hobby\",\"NumberMonitors\",\"Salary\",\"CheckInCode\",\"WakeTime\",\"TimeFullyProductive\",\"SkipMeals\",\"HoursOutside\",\"Exercise\",\"EthicalImplications\",\"EducationParents\"]\n",
    "survey=survey[survey.columns.difference(attrToDrop)]\n",
    "print(\"Number of columns dropped: \",len(attrToDrop))"
   ]
  },
  {
   "cell_type": "code",
   "execution_count": 10,
   "id": "5e4beae2",
   "metadata": {},
   "outputs": [
    {
     "name": "stdout",
     "output_type": "stream",
     "text": [
      "Number of categorical columns:  44\n",
      "Number of float columns:  29\n",
      "Number of int columns:  1\n",
      "Total number of columns:  74\n"
     ]
    }
   ],
   "source": [
    "# Get categorical columns\n",
    "cat_cols = [col for col in survey.columns if survey[col].dtype.name==\"object\"]\n",
    "float_cols = [col for col in survey.columns if survey[col].dtype.name==\"float64\"]\n",
    "int_cols = [col for col in survey.columns if survey[col].dtype.name==\"int64\"]\n",
    "print('Number of categorical columns: ',len(cat_cols))\n",
    "print('Number of float columns: ',len(float_cols))\n",
    "print('Number of int columns: ',len(int_cols))\n",
    "print('Total number of columns: ',len(survey.columns))"
   ]
  },
  {
   "cell_type": "markdown",
   "id": "842c0ef4",
   "metadata": {},
   "source": [
    "## Replace NA values with \"\""
   ]
  },
  {
   "cell_type": "code",
   "execution_count": 11,
   "id": "6846deb1",
   "metadata": {},
   "outputs": [],
   "source": [
    "survey = survey.replace(np.nan, '', regex=True)"
   ]
  },
  {
   "cell_type": "markdown",
   "id": "8ad286a4",
   "metadata": {},
   "source": [
    "## Encode categorical features"
   ]
  },
  {
   "cell_type": "code",
<<<<<<< HEAD
   "execution_count": 12,
   "id": "da45728e",
=======
   "execution_count": 8,
   "id": "4f9736ec",
>>>>>>> origin/main
   "metadata": {},
   "outputs": [],
   "source": [
    "# Creating dictionaries\n",
    "\n",
    "Frameworknextyear=list()\n",
    "for value in survey[\"FrameworkDesireNextYear\"]:\n",
    "        new=str(value).split(';')\n",
    "        for i in new:\n",
    "            Frameworknextyear.append(i)\n",
    "sFNY=set(Frameworknextyear)\n",
    "\n",
    "FrameworkWorkedWith=list()\n",
    "for value in survey[\"FrameworkWorkedWith\"]:\n",
    "        new=str(value).split(';')\n",
    "        for i in new:\n",
    "            FrameworkWorkedWith.append(i)\n",
    "sFW=set(FrameworkWorkedWith)\n",
    "\n",
    "PlatformDesireNextYear=list()\n",
    "for value in survey[\"PlatformDesireNextYear\"]:\n",
    "        new=str(value).split(';')\n",
    "        for i in new:\n",
    "            PlatformDesireNextYear.append(i)\n",
    "sPDNY=set(PlatformDesireNextYear)\n",
    "\n",
    "PlatformWorkedWith=list()\n",
    "for value in survey[\"PlatformWorkedWith\"]:\n",
    "        new=str(value).split(';')\n",
    "        for i in new:\n",
    "            PlatformWorkedWith.append(i)\n",
    "sPWW=set(PlatformWorkedWith)\n",
    "\n",
    "LanguageDesireNextYear=list()\n",
    "for value in survey[\"LanguageDesireNextYear\"]:\n",
    "        new=str(value).split(';')\n",
    "        for i in new:\n",
    "            LanguageDesireNextYear.append(i)\n",
    "sLDNY=set(LanguageDesireNextYear)\n",
    "\n",
    "LanguageWorkedWith=list()\n",
    "for value in survey[\"LanguageWorkedWith\"]:\n",
    "        new=str(value).split(';')\n",
    "        for i in new:\n",
    "            LanguageWorkedWith.append(i)\n",
    "sLWW=set(LanguageWorkedWith)\n",
    "         \n",
    "CommunicationTools=list()\n",
    "for value in survey[\"CommunicationTools\"]:\n",
    "        new=str(value).split(';')\n",
    "        for i in new:\n",
    "            CommunicationTools.append(i)\n",
    "sCT=set(CommunicationTools)\n",
    "\n",
    "DatabaseWorkedWith=list()\n",
    "for value in survey[\"DatabaseWorkedWith\"]:\n",
    "        new=str(value).split(';')\n",
    "        for i in new:\n",
    "            DatabaseWorkedWith.append(i)\n",
    "sDWW=set(DatabaseWorkedWith)\n",
    "\n",
    "DatabaseDesireNextYear=list()\n",
    "for value in survey[\"DatabaseDesireNextYear\"]:\n",
    "        new=str(value).split(';')\n",
    "        for i in new:\n",
    "            DatabaseDesireNextYear.append(i)\n",
    "sDNY=set(DatabaseDesireNextYear)\n",
    "\n",
    "DevType=list()\n",
    "for value in survey[\"DevType\"]:\n",
    "        new=str(value).split(';')\n",
    "        for i in new:\n",
    "            DevType.append(i)\n",
    "sDT=set(DevType)\n",
    "\n",
    "# Combining all frameworks\n",
    "combined=sFNY.union(sFW,sFNY,sPDNY,sPWW,sLDNY,sLWW,sCT,sDWW,sDNY,sDT)\n",
    "all_framework=list(combined)\n",
    "all_fw=pd.DataFrame(all_framework)"
   ]
  },
  {
   "cell_type": "code",
<<<<<<< HEAD
   "execution_count": 13,
   "id": "4e521559",
=======
   "execution_count": 9,
   "id": "86bf7649",
>>>>>>> origin/main
   "metadata": {},
   "outputs": [],
   "source": [
    "# Userwise framework information\n",
    "FrameworkWorkedWith = pd.DataFrame(survey['Respondent'])\n",
    "for i in sFW:\n",
    "    #print(i)\n",
    "    FrameworkWorkedWith[i]=\"\"\n",
    "\n",
    "PlatformWorkedWith = pd.DataFrame(survey['Respondent'])\n",
    "for i in sPWW:\n",
    "    #print(i)\n",
    "    PlatformWorkedWith[i]=\"\"\n",
    "\n",
    "LanguageWorkedWith = pd.DataFrame(survey['Respondent'])\n",
    "for i in sLWW:\n",
    "    LanguageWorkedWith[i]=\"\"\n",
    "\n",
    "DatabaseWorkedWith = pd.DataFrame(survey['Respondent'])\n",
    "for i in sDWW:\n",
    "    DatabaseWorkedWith[i]=\"\"\n",
    "\n",
    "DevType = pd.DataFrame(survey['Respondent'])\n",
    "for i in sDT:\n",
    "    DevType[i]=\"\"\n",
    "\n",
    "CommunicationTools = pd.DataFrame(survey['Respondent'])\n",
    "for i in sCT:\n",
    "    CommunicationTools[i]=\"\""
   ]
  },
  {
   "cell_type": "code",
<<<<<<< HEAD
   "execution_count": 14,
   "id": "3646aee3",
=======
   "execution_count": 10,
   "id": "f0dfea1d",
>>>>>>> origin/main
   "metadata": {},
   "outputs": [],
   "source": [
    "# Forming dictionary\n",
    "\n",
    "coldic=dict(zip(FrameworkWorkedWith.columns,range(0,len(sFW)+1)))\n",
    "for i in range(98855):\n",
    "    #try:\n",
    "    data=(survey.loc[i,'FrameworkWorkedWith']).split(';')\n",
    "    #except:\n",
    "        #print(\"Error: \",i,\" - \",survey.loc[i,'FrameworkWorkedWith'])\n",
    "    if(data[0]!=\"\"):\n",
    "       # print(data)\n",
    "        for value in data:\n",
    "            FrameworkWorkedWith.iloc[i,coldic[value]]=1\n",
    "\n",
    "#PlatformWorkedWith\n",
    "coldic1=dict(zip(PlatformWorkedWith.columns,range(0,len(sPWW)+1)))\n",
    "for i in range(98855):\n",
    "    data=(survey.loc[i,'PlatformWorkedWith']).split(';')\n",
    "    if(data[0]!=\"\"):\n",
    "       # print(data)\n",
    "        for value in data:\n",
    "            PlatformWorkedWith.iloc[i,coldic1[value]]=1\n",
    "\n",
    "#LanguageWorkedWith\n",
    "coldic2=dict(zip(LanguageWorkedWith.columns,range(0,len(sLWW)+1)))\n",
    "for i in range(98855):\n",
    "    data=(survey.loc[i,'LanguageWorkedWith']).split(';')\n",
    "    if(data[0]!=\"\"):\n",
    "       # print(data)\n",
    "        for value in data:\n",
    "            LanguageWorkedWith.iloc[i,coldic2[value]]=1\n",
    "\n",
    "#DatabasesWorkedWth\n",
    "coldic3=dict(zip(DatabaseWorkedWith.columns,range(0,len(sDWW)+1)))\n",
    "for i in range(98855):\n",
    "    data=(survey.loc[i,'DatabaseWorkedWith']).split(';')\n",
    "    if(data[0]!=\"\"):\n",
    "       # print(data)\n",
    "        for value in data:\n",
    "            DatabaseWorkedWith.iloc[i,coldic3[value]]=1\n",
    "\n",
    "#DevType\n",
    "coldic4=dict(zip(DevType.columns,range(0,len(sDT)+1)))\n",
    "for i in range(98855):\n",
    "    data=(survey.loc[i,'DevType']).split(';')\n",
    "    if(data[0]!=\"\"):\n",
    "       # print(data)\n",
    "        for value in data:\n",
    "            DevType.iloc[i,coldic4[value]]=1\n",
    "\n",
    "#CommmunicationTools\n",
    "coldic5=dict(zip(CommunicationTools.columns,range(0,len(sCT)+1)))\n",
    "for i in range(98855):\n",
    "    data=(survey.loc[i,'CommunicationTools']).split(';')\n",
    "    if(data[0]!=\"\"):\n",
    "        for value in data:\n",
    "            CommunicationTools.iloc[i,coldic5[value]]=1"
   ]
  },
  {
   "cell_type": "markdown",
   "id": "5883515e",
   "metadata": {
    "tags": [
     "remove_cell"
    ]
   },
   "source": [
    "## Export survey to csv"
   ]
  },
  {
   "cell_type": "code",
   "execution_count": 15,
   "id": "2df97ccc",
   "metadata": {},
   "outputs": [],
   "source": [
    "survey.to_csv('./dataset/survey_dropped_columns.csv',index=False)\n",
    "LanguageWorkedWith.to_csv(\"./dataset/LanguageWorkedWith.csv\",index=False)\n",
    "DatabaseWorkedWith.to_csv(\"./dataset/DatabaseWorkedWith.csv\",index=False)\n",
    "CommunicationTools.to_csv(\"./dataset/CommunicationTools.csv\",index=False)\n",
    "DevType.to_csv(\"./dataset/DevType.csv\",index=False)\n",
    "FrameworkWorkedWith.to_csv(\"./dataset/FrameworkWorkedWith.csv\",index=False)\n",
    "PlatformWorkedWith.to_csv(\"./dataset/PlatformWorkedWith.csv\",index=False)"
   ]
  },
  {
   "cell_type": "markdown",
   "id": "f55ec7cb",
   "metadata": {},
   "source": [
    "## Encoding categorical features"
   ]
  },
  {
   "cell_type": "code",
   "execution_count": 16,
   "id": "ee4deee4",
   "metadata": {},
   "outputs": [],
   "source": [
    "encode = LabelEncoder()"
   ]
  },
  {
   "cell_type": "code",
   "execution_count": 17,
   "id": "8ceb07b1",
   "metadata": {},
   "outputs": [
    {
     "name": "stdout",
     "output_type": "stream",
     "text": [
      "Converted:  Age\n",
      "Converted:  AgreeDisagree1\n",
      "Converted:  AgreeDisagree2\n",
      "Converted:  AgreeDisagree3\n",
      "Converted:  AssessBenefits1\n"
     ]
    },
    {
     "ename": "TypeError",
     "evalue": "Encoders require their input to be uniformly strings or numbers. Got ['float', 'str']",
     "output_type": "error",
     "traceback": [
      "\u001b[0;31m---------------------------------------------------------------------------\u001b[0m",
      "\u001b[0;31mTypeError\u001b[0m                                 Traceback (most recent call last)",
      "File \u001b[0;32m/opt/anaconda3/envs/sv_ads/lib/python3.10/site-packages/sklearn/utils/_encode.py:135\u001b[0m, in \u001b[0;36m_unique_python\u001b[0;34m(values, return_inverse)\u001b[0m\n\u001b[1;32m    133\u001b[0m uniques_set, missing_values \u001b[38;5;241m=\u001b[39m _extract_missing(uniques_set)\n\u001b[0;32m--> 135\u001b[0m uniques \u001b[38;5;241m=\u001b[39m \u001b[38;5;28;43msorted\u001b[39;49m\u001b[43m(\u001b[49m\u001b[43muniques_set\u001b[49m\u001b[43m)\u001b[49m\n\u001b[1;32m    136\u001b[0m uniques\u001b[38;5;241m.\u001b[39mextend(missing_values\u001b[38;5;241m.\u001b[39mto_list())\n",
      "\u001b[0;31mTypeError\u001b[0m: '<' not supported between instances of 'float' and 'str'",
      "\nDuring handling of the above exception, another exception occurred:\n",
      "\u001b[0;31mTypeError\u001b[0m                                 Traceback (most recent call last)",
      "Input \u001b[0;32mIn [17]\u001b[0m, in \u001b[0;36m<cell line: 3>\u001b[0;34m()\u001b[0m\n\u001b[1;32m      3\u001b[0m \u001b[38;5;28;01mfor\u001b[39;00m col \u001b[38;5;129;01min\u001b[39;00m cat_cols:\n\u001b[1;32m      4\u001b[0m     \u001b[38;5;28mprint\u001b[39m(\u001b[38;5;124m'\u001b[39m\u001b[38;5;124mConverted: \u001b[39m\u001b[38;5;124m'\u001b[39m, col)\n\u001b[0;32m----> 5\u001b[0m     survey[col]\u001b[38;5;241m=\u001b[39m\u001b[43mencode\u001b[49m\u001b[38;5;241;43m.\u001b[39;49m\u001b[43mfit_transform\u001b[49m\u001b[43m(\u001b[49m\u001b[43msurvey\u001b[49m\u001b[43m[\u001b[49m\u001b[43mcol\u001b[49m\u001b[43m]\u001b[49m\u001b[43m)\u001b[49m\n",
      "File \u001b[0;32m/opt/anaconda3/envs/sv_ads/lib/python3.10/site-packages/sklearn/preprocessing/_label.py:116\u001b[0m, in \u001b[0;36mLabelEncoder.fit_transform\u001b[0;34m(self, y)\u001b[0m\n\u001b[1;32m    103\u001b[0m \u001b[38;5;124;03m\"\"\"Fit label encoder and return encoded labels.\u001b[39;00m\n\u001b[1;32m    104\u001b[0m \n\u001b[1;32m    105\u001b[0m \u001b[38;5;124;03mParameters\u001b[39;00m\n\u001b[0;32m   (...)\u001b[0m\n\u001b[1;32m    113\u001b[0m \u001b[38;5;124;03m    Encoded labels.\u001b[39;00m\n\u001b[1;32m    114\u001b[0m \u001b[38;5;124;03m\"\"\"\u001b[39;00m\n\u001b[1;32m    115\u001b[0m y \u001b[38;5;241m=\u001b[39m column_or_1d(y, warn\u001b[38;5;241m=\u001b[39m\u001b[38;5;28;01mTrue\u001b[39;00m)\n\u001b[0;32m--> 116\u001b[0m \u001b[38;5;28mself\u001b[39m\u001b[38;5;241m.\u001b[39mclasses_, y \u001b[38;5;241m=\u001b[39m \u001b[43m_unique\u001b[49m\u001b[43m(\u001b[49m\u001b[43my\u001b[49m\u001b[43m,\u001b[49m\u001b[43m \u001b[49m\u001b[43mreturn_inverse\u001b[49m\u001b[38;5;241;43m=\u001b[39;49m\u001b[38;5;28;43;01mTrue\u001b[39;49;00m\u001b[43m)\u001b[49m\n\u001b[1;32m    117\u001b[0m \u001b[38;5;28;01mreturn\u001b[39;00m y\n",
      "File \u001b[0;32m/opt/anaconda3/envs/sv_ads/lib/python3.10/site-packages/sklearn/utils/_encode.py:31\u001b[0m, in \u001b[0;36m_unique\u001b[0;34m(values, return_inverse)\u001b[0m\n\u001b[1;32m      8\u001b[0m \u001b[38;5;124;03m\"\"\"Helper function to find unique values with support for python objects.\u001b[39;00m\n\u001b[1;32m      9\u001b[0m \n\u001b[1;32m     10\u001b[0m \u001b[38;5;124;03mUses pure python method for object dtype, and numpy method for\u001b[39;00m\n\u001b[0;32m   (...)\u001b[0m\n\u001b[1;32m     28\u001b[0m \u001b[38;5;124;03m    Only provided if `return_inverse` is True.\u001b[39;00m\n\u001b[1;32m     29\u001b[0m \u001b[38;5;124;03m\"\"\"\u001b[39;00m\n\u001b[1;32m     30\u001b[0m \u001b[38;5;28;01mif\u001b[39;00m values\u001b[38;5;241m.\u001b[39mdtype \u001b[38;5;241m==\u001b[39m \u001b[38;5;28mobject\u001b[39m:\n\u001b[0;32m---> 31\u001b[0m     \u001b[38;5;28;01mreturn\u001b[39;00m \u001b[43m_unique_python\u001b[49m\u001b[43m(\u001b[49m\u001b[43mvalues\u001b[49m\u001b[43m,\u001b[49m\u001b[43m \u001b[49m\u001b[43mreturn_inverse\u001b[49m\u001b[38;5;241;43m=\u001b[39;49m\u001b[43mreturn_inverse\u001b[49m\u001b[43m)\u001b[49m\n\u001b[1;32m     32\u001b[0m \u001b[38;5;66;03m# numerical\u001b[39;00m\n\u001b[1;32m     33\u001b[0m out \u001b[38;5;241m=\u001b[39m np\u001b[38;5;241m.\u001b[39munique(values, return_inverse\u001b[38;5;241m=\u001b[39mreturn_inverse)\n",
      "File \u001b[0;32m/opt/anaconda3/envs/sv_ads/lib/python3.10/site-packages/sklearn/utils/_encode.py:140\u001b[0m, in \u001b[0;36m_unique_python\u001b[0;34m(values, return_inverse)\u001b[0m\n\u001b[1;32m    138\u001b[0m \u001b[38;5;28;01mexcept\u001b[39;00m \u001b[38;5;167;01mTypeError\u001b[39;00m:\n\u001b[1;32m    139\u001b[0m     types \u001b[38;5;241m=\u001b[39m \u001b[38;5;28msorted\u001b[39m(t\u001b[38;5;241m.\u001b[39m\u001b[38;5;18m__qualname__\u001b[39m \u001b[38;5;28;01mfor\u001b[39;00m t \u001b[38;5;129;01min\u001b[39;00m \u001b[38;5;28mset\u001b[39m(\u001b[38;5;28mtype\u001b[39m(v) \u001b[38;5;28;01mfor\u001b[39;00m v \u001b[38;5;129;01min\u001b[39;00m values))\n\u001b[0;32m--> 140\u001b[0m     \u001b[38;5;28;01mraise\u001b[39;00m \u001b[38;5;167;01mTypeError\u001b[39;00m(\n\u001b[1;32m    141\u001b[0m         \u001b[38;5;124m\"\u001b[39m\u001b[38;5;124mEncoders require their input to be uniformly \u001b[39m\u001b[38;5;124m\"\u001b[39m\n\u001b[1;32m    142\u001b[0m         \u001b[38;5;124mf\u001b[39m\u001b[38;5;124m\"\u001b[39m\u001b[38;5;124mstrings or numbers. Got \u001b[39m\u001b[38;5;132;01m{\u001b[39;00mtypes\u001b[38;5;132;01m}\u001b[39;00m\u001b[38;5;124m\"\u001b[39m\n\u001b[1;32m    143\u001b[0m     )\n\u001b[1;32m    145\u001b[0m \u001b[38;5;28;01mif\u001b[39;00m return_inverse:\n\u001b[1;32m    146\u001b[0m     \u001b[38;5;28;01mreturn\u001b[39;00m uniques, _map_to_integer(values, uniques)\n",
      "\u001b[0;31mTypeError\u001b[0m: Encoders require their input to be uniformly strings or numbers. Got ['float', 'str']"
     ]
    }
   ],
   "source": [
    "cat_cols = [col for col in survey.columns if survey[col].dtype.name==\"object\"]\n",
    "# Converting the variables\n",
    "for col in cat_cols:\n",
    "    print('Converted: ', col)\n",
    "    survey[col]=encode.fit_transform(survey[col])"
   ]
  },
  {
   "cell_type": "markdown",
   "id": "4d7908ae",
   "metadata": {},
   "source": [
    "## Imputing values"
   ]
  },
  {
   "cell_type": "code",
   "execution_count": null,
   "id": "2fd1ca0d",
   "metadata": {},
   "outputs": [],
   "source": [
    "# Imputing assessment columns with mode value\n",
    "for col in survey.columns: \n",
    "    if col.__contains__('Assess'):\n",
    "        #print('Found: ',col)\n",
    "        survey[col] = survey[col].fillna(survey[col].mode()[0])"
   ]
  }
 ],
 "metadata": {
  "kernelspec": {
   "display_name": "Python 3 (ipykernel)",
   "language": "python",
   "name": "python3"
  },
  "language_info": {
   "codemirror_mode": {
    "name": "ipython",
    "version": 3
   },
   "file_extension": ".py",
   "mimetype": "text/x-python",
   "name": "python",
   "nbconvert_exporter": "python",
   "pygments_lexer": "ipython3",
   "version": "3.10.4"
  }
 },
 "nbformat": 4,
 "nbformat_minor": 5
}
